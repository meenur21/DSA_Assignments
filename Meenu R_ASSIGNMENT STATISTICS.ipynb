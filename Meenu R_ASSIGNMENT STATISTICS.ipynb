{
 "cells": [
  {
   "cell_type": "markdown",
   "id": "3a1d91d4",
   "metadata": {},
   "source": [
    "# Assignment on Statistics"
   ]
  },
  {
   "cell_type": "markdown",
   "id": "19ec9b11",
   "metadata": {},
   "source": [
    "1.  An Institution wishes to find out their student’s ability in \n",
    "mathematics, reading and writing skills. The Institution \n",
    "wants to do an exploratory study to check the following \n",
    "information.\n",
    "\n",
    "a. Find out how many males and females participated in \n",
    "the test.\n",
    "\n",
    "b. What do you think about the students' parental level of \n",
    "education?\n",
    "\n",
    "c. Who scores the most on average for math, reading and \n",
    "writing based on\n",
    "   \n",
    "   i. Gender\n",
    "   ii. Test preparation course\n",
    "\n",
    "d. What do you think about the scoring variation for \n",
    "math, reading and writing based on\n",
    "  \n",
    "  i. Gender\n",
    "   ii. Test preparation course\n",
    "\n",
    "e. The management needs your help to give bonus points \n",
    "to the top 25% of students based on their math score, \n",
    "so how will you help the management to achieve this."
   ]
  },
  {
   "cell_type": "code",
   "execution_count": 1,
   "id": "772ad9d7",
   "metadata": {},
   "outputs": [],
   "source": [
    "import pandas as pd\n",
    "import numpy as np"
   ]
  },
  {
   "cell_type": "code",
   "execution_count": 2,
   "id": "b3b02ad8",
   "metadata": {},
   "outputs": [
    {
     "data": {
      "text/html": [
       "<div>\n",
       "<style scoped>\n",
       "    .dataframe tbody tr th:only-of-type {\n",
       "        vertical-align: middle;\n",
       "    }\n",
       "\n",
       "    .dataframe tbody tr th {\n",
       "        vertical-align: top;\n",
       "    }\n",
       "\n",
       "    .dataframe thead th {\n",
       "        text-align: right;\n",
       "    }\n",
       "</style>\n",
       "<table border=\"1\" class=\"dataframe\">\n",
       "  <thead>\n",
       "    <tr style=\"text-align: right;\">\n",
       "      <th></th>\n",
       "      <th>gender</th>\n",
       "      <th>race/ethnicity</th>\n",
       "      <th>parental level of education</th>\n",
       "      <th>lunch</th>\n",
       "      <th>test preparation course</th>\n",
       "      <th>math score</th>\n",
       "      <th>reading score</th>\n",
       "      <th>writing score</th>\n",
       "    </tr>\n",
       "  </thead>\n",
       "  <tbody>\n",
       "    <tr>\n",
       "      <th>0</th>\n",
       "      <td>female</td>\n",
       "      <td>group C</td>\n",
       "      <td>some high school</td>\n",
       "      <td>free/reduced</td>\n",
       "      <td>none</td>\n",
       "      <td>0</td>\n",
       "      <td>17</td>\n",
       "      <td>10</td>\n",
       "    </tr>\n",
       "    <tr>\n",
       "      <th>1</th>\n",
       "      <td>female</td>\n",
       "      <td>group B</td>\n",
       "      <td>high school</td>\n",
       "      <td>free/reduced</td>\n",
       "      <td>none</td>\n",
       "      <td>8</td>\n",
       "      <td>24</td>\n",
       "      <td>23</td>\n",
       "    </tr>\n",
       "    <tr>\n",
       "      <th>2</th>\n",
       "      <td>female</td>\n",
       "      <td>group B</td>\n",
       "      <td>some high school</td>\n",
       "      <td>free/reduced</td>\n",
       "      <td>none</td>\n",
       "      <td>18</td>\n",
       "      <td>32</td>\n",
       "      <td>28</td>\n",
       "    </tr>\n",
       "    <tr>\n",
       "      <th>3</th>\n",
       "      <td>female</td>\n",
       "      <td>group B</td>\n",
       "      <td>some college</td>\n",
       "      <td>standard</td>\n",
       "      <td>none</td>\n",
       "      <td>11</td>\n",
       "      <td>38</td>\n",
       "      <td>32</td>\n",
       "    </tr>\n",
       "    <tr>\n",
       "      <th>4</th>\n",
       "      <td>female</td>\n",
       "      <td>group C</td>\n",
       "      <td>some college</td>\n",
       "      <td>free/reduced</td>\n",
       "      <td>none</td>\n",
       "      <td>22</td>\n",
       "      <td>39</td>\n",
       "      <td>33</td>\n",
       "    </tr>\n",
       "    <tr>\n",
       "      <th>...</th>\n",
       "      <td>...</td>\n",
       "      <td>...</td>\n",
       "      <td>...</td>\n",
       "      <td>...</td>\n",
       "      <td>...</td>\n",
       "      <td>...</td>\n",
       "      <td>...</td>\n",
       "      <td>...</td>\n",
       "    </tr>\n",
       "    <tr>\n",
       "      <th>995</th>\n",
       "      <td>male</td>\n",
       "      <td>group E</td>\n",
       "      <td>some college</td>\n",
       "      <td>standard</td>\n",
       "      <td>completed</td>\n",
       "      <td>99</td>\n",
       "      <td>87</td>\n",
       "      <td>81</td>\n",
       "    </tr>\n",
       "    <tr>\n",
       "      <th>996</th>\n",
       "      <td>male</td>\n",
       "      <td>group A</td>\n",
       "      <td>some college</td>\n",
       "      <td>standard</td>\n",
       "      <td>completed</td>\n",
       "      <td>100</td>\n",
       "      <td>96</td>\n",
       "      <td>86</td>\n",
       "    </tr>\n",
       "    <tr>\n",
       "      <th>997</th>\n",
       "      <td>male</td>\n",
       "      <td>group D</td>\n",
       "      <td>some college</td>\n",
       "      <td>standard</td>\n",
       "      <td>completed</td>\n",
       "      <td>100</td>\n",
       "      <td>97</td>\n",
       "      <td>99</td>\n",
       "    </tr>\n",
       "    <tr>\n",
       "      <th>998</th>\n",
       "      <td>male</td>\n",
       "      <td>group E</td>\n",
       "      <td>associate's degree</td>\n",
       "      <td>free/reduced</td>\n",
       "      <td>completed</td>\n",
       "      <td>100</td>\n",
       "      <td>100</td>\n",
       "      <td>93</td>\n",
       "    </tr>\n",
       "    <tr>\n",
       "      <th>999</th>\n",
       "      <td>male</td>\n",
       "      <td>group E</td>\n",
       "      <td>bachelor's degree</td>\n",
       "      <td>standard</td>\n",
       "      <td>completed</td>\n",
       "      <td>100</td>\n",
       "      <td>100</td>\n",
       "      <td>100</td>\n",
       "    </tr>\n",
       "  </tbody>\n",
       "</table>\n",
       "<p>1000 rows × 8 columns</p>\n",
       "</div>"
      ],
      "text/plain": [
       "     gender race/ethnicity parental level of education         lunch  \\\n",
       "0    female        group C            some high school  free/reduced   \n",
       "1    female        group B                 high school  free/reduced   \n",
       "2    female        group B            some high school  free/reduced   \n",
       "3    female        group B                some college      standard   \n",
       "4    female        group C                some college  free/reduced   \n",
       "..      ...            ...                         ...           ...   \n",
       "995    male        group E                some college      standard   \n",
       "996    male        group A                some college      standard   \n",
       "997    male        group D                some college      standard   \n",
       "998    male        group E          associate's degree  free/reduced   \n",
       "999    male        group E           bachelor's degree      standard   \n",
       "\n",
       "    test preparation course  math score  reading score  writing score  \n",
       "0                      none           0             17             10  \n",
       "1                      none           8             24             23  \n",
       "2                      none          18             32             28  \n",
       "3                      none          11             38             32  \n",
       "4                      none          22             39             33  \n",
       "..                      ...         ...            ...            ...  \n",
       "995               completed          99             87             81  \n",
       "996               completed         100             96             86  \n",
       "997               completed         100             97             99  \n",
       "998               completed         100            100             93  \n",
       "999               completed         100            100            100  \n",
       "\n",
       "[1000 rows x 8 columns]"
      ]
     },
     "execution_count": 2,
     "metadata": {},
     "output_type": "execute_result"
    }
   ],
   "source": [
    "data = pd.read_csv(r\"C:\\Users\\meenu\\Downloads\\Students_Performance.csv\")\n",
    "data"
   ]
  },
  {
   "cell_type": "markdown",
   "id": "10b9c738",
   "metadata": {},
   "source": [
    "Q1\n",
    "\n",
    "a] to find no. of female and male students took part in test"
   ]
  },
  {
   "cell_type": "code",
   "execution_count": 4,
   "id": "bde239fe",
   "metadata": {},
   "outputs": [
    {
     "name": "stdout",
     "output_type": "stream",
     "text": [
      "female    518\n",
      "male      482\n",
      "Name: gender, dtype: int64\n"
     ]
    }
   ],
   "source": [
    "gender_counts = data['gender'].value_counts()\n",
    "print(gender_counts)\n"
   ]
  },
  {
   "cell_type": "markdown",
   "id": "6e2b318d",
   "metadata": {},
   "source": [
    "b]Parental level of education"
   ]
  },
  {
   "cell_type": "code",
   "execution_count": 5,
   "id": "25555975",
   "metadata": {},
   "outputs": [
    {
     "name": "stdout",
     "output_type": "stream",
     "text": [
      "some college          226\n",
      "associate's degree    222\n",
      "high school           196\n",
      "some high school      179\n",
      "bachelor's degree     118\n",
      "master's degree        59\n",
      "Name: parental level of education, dtype: int64\n"
     ]
    }
   ],
   "source": [
    "parental_education_counts = data['parental level of education'].value_counts()\n",
    "print(parental_education_counts)\n"
   ]
  },
  {
   "cell_type": "markdown",
   "id": "046edbdb",
   "metadata": {},
   "source": [
    "c]Average Scores"
   ]
  },
  {
   "cell_type": "markdown",
   "id": "bf4de421",
   "metadata": {},
   "source": [
    "i) by gender"
   ]
  },
  {
   "cell_type": "code",
   "execution_count": 7,
   "id": "ea10bb0f",
   "metadata": {},
   "outputs": [
    {
     "name": "stdout",
     "output_type": "stream",
     "text": [
      "        math score  reading score  writing score\n",
      "gender                                          \n",
      "female   63.376448      72.590734      72.467181\n",
      "male     68.821577      65.545643      63.446058\n"
     ]
    },
    {
     "name": "stderr",
     "output_type": "stream",
     "text": [
      "C:\\Users\\meenu\\AppData\\Local\\Temp\\ipykernel_7644\\3631568134.py:1: FutureWarning: The default value of numeric_only in DataFrameGroupBy.mean is deprecated. In a future version, numeric_only will default to False. Either specify numeric_only or select only columns which should be valid for the function.\n",
      "  average_scores_gender = data.groupby('gender').mean()[['math score', 'reading score', 'writing score']]\n"
     ]
    }
   ],
   "source": [
    "average_scores_gender = data.groupby('gender').mean()[['math score', 'reading score', 'writing score']]\n",
    "\n",
    "print(average_scores_gender)"
   ]
  },
  {
   "cell_type": "markdown",
   "id": "61f1c9af",
   "metadata": {},
   "source": [
    "ii) by Test Preparation Course"
   ]
  },
  {
   "cell_type": "code",
   "execution_count": 9,
   "id": "64652799",
   "metadata": {},
   "outputs": [
    {
     "name": "stdout",
     "output_type": "stream",
     "text": [
      "                         math score  reading score  writing score\n",
      "test preparation course                                          \n",
      "completed                  69.96648      74.175978      74.684358\n",
      "none                       63.78972      66.417445      64.457944\n"
     ]
    },
    {
     "name": "stderr",
     "output_type": "stream",
     "text": [
      "C:\\Users\\meenu\\AppData\\Local\\Temp\\ipykernel_7644\\2160805793.py:1: FutureWarning: The default value of numeric_only in DataFrameGroupBy.mean is deprecated. In a future version, numeric_only will default to False. Either specify numeric_only or select only columns which should be valid for the function.\n",
      "  average_scores_course = data.groupby('test preparation course').mean()[['math score', 'reading score', 'writing score']]\n"
     ]
    }
   ],
   "source": [
    "average_scores_course = data.groupby('test preparation course').mean()[['math score', 'reading score', 'writing score']]\n",
    "print(average_scores_course)"
   ]
  },
  {
   "cell_type": "markdown",
   "id": "5ba4186b",
   "metadata": {},
   "source": [
    "d] Scoring Variation"
   ]
  },
  {
   "cell_type": "markdown",
   "id": "996c470e",
   "metadata": {},
   "source": [
    "i)by gender"
   ]
  },
  {
   "cell_type": "code",
   "execution_count": 10,
   "id": "5143a7c3",
   "metadata": {},
   "outputs": [
    {
     "name": "stdout",
     "output_type": "stream",
     "text": [
      "        math score  reading score  writing score\n",
      "gender                                          \n",
      "female   16.029928      14.411018      14.844842\n",
      "male     14.556411      14.149594      14.227225\n"
     ]
    },
    {
     "name": "stderr",
     "output_type": "stream",
     "text": [
      "C:\\Users\\meenu\\AppData\\Local\\Temp\\ipykernel_7644\\2255199828.py:1: FutureWarning: The default value of numeric_only in DataFrameGroupBy.std is deprecated. In a future version, numeric_only will default to False. Either specify numeric_only or select only columns which should be valid for the function.\n",
      "  scoring_variation_gender = data.groupby('gender').std()[['math score', 'reading score', 'writing score']]\n"
     ]
    }
   ],
   "source": [
    "scoring_variation_gender = data.groupby('gender').std()[['math score', 'reading score', 'writing score']]\n",
    "print(scoring_variation_gender)"
   ]
  },
  {
   "cell_type": "markdown",
   "id": "9656dcef",
   "metadata": {},
   "source": [
    "ii) by test preparation course"
   ]
  },
  {
   "cell_type": "code",
   "execution_count": 12,
   "id": "64d4be4a",
   "metadata": {},
   "outputs": [
    {
     "name": "stdout",
     "output_type": "stream",
     "text": [
      "                         math score  reading score  writing score\n",
      "test preparation course                                          \n",
      "completed                 14.521847      13.537572      13.236412\n",
      "none                      15.705689      14.608896      15.041667\n"
     ]
    },
    {
     "name": "stderr",
     "output_type": "stream",
     "text": [
      "C:\\Users\\meenu\\AppData\\Local\\Temp\\ipykernel_7644\\2958405633.py:1: FutureWarning: The default value of numeric_only in DataFrameGroupBy.std is deprecated. In a future version, numeric_only will default to False. Either specify numeric_only or select only columns which should be valid for the function.\n",
      "  scoring_variation_course = data.groupby('test preparation course').std()[['math score', 'reading score', 'writing score']]\n"
     ]
    }
   ],
   "source": [
    "scoring_variation_course = data.groupby('test preparation course').std()[['math score', 'reading score', 'writing score']]\n",
    "print(scoring_variation_course)"
   ]
  },
  {
   "cell_type": "markdown",
   "id": "52826840",
   "metadata": {},
   "source": [
    "e] Top 25% students in maths score"
   ]
  },
  {
   "cell_type": "code",
   "execution_count": 15,
   "id": "4ee271ab",
   "metadata": {},
   "outputs": [
    {
     "name": "stdout",
     "output_type": "stream",
     "text": [
      "     gender race/ethnicity parental level of education         lunch  \\\n",
      "414  female        group A                 high school  free/reduced   \n",
      "415  female        group B             master's degree  free/reduced   \n",
      "416  female        group B           bachelor's degree  free/reduced   \n",
      "417  female        group B             master's degree      standard   \n",
      "418  female        group B                 high school      standard   \n",
      "..      ...            ...                         ...           ...   \n",
      "995    male        group E                some college      standard   \n",
      "996    male        group A                some college      standard   \n",
      "997    male        group D                some college      standard   \n",
      "998    male        group E          associate's degree  free/reduced   \n",
      "999    male        group E           bachelor's degree      standard   \n",
      "\n",
      "    test preparation course  math score  reading score  writing score  \n",
      "414               completed          77             88             85  \n",
      "415               completed          77             97             94  \n",
      "416                    none          77             85             87  \n",
      "417                    none          77             90             84  \n",
      "418               completed          77             82             89  \n",
      "..                      ...         ...            ...            ...  \n",
      "995               completed          99             87             81  \n",
      "996               completed         100             96             86  \n",
      "997               completed         100             97             99  \n",
      "998               completed         100            100             93  \n",
      "999               completed         100            100            100  \n",
      "\n",
      "[255 rows x 8 columns]\n"
     ]
    }
   ],
   "source": [
    "top_25_math_scores = data['math score'].quantile(0.75)\n",
    "top_25_percent_students = data[data['math score'] >= top_25_math_scores]\n",
    "print(top_25_percent_students)\n"
   ]
  },
  {
   "cell_type": "code",
   "execution_count": 19,
   "id": "c6c5aa27",
   "metadata": {},
   "outputs": [
    {
     "data": {
      "image/png": "[encoded data removed]",
      "text/plain": [
       "<Figure size 640x480 with 1 Axes>"
      ]
     },
     "metadata": {},
     "output_type": "display_data"
    }
   ],
   "source": [
    "#visualising the top 25% math scorers by gender\n",
    "\n",
    "import matplotlib.pyplot as plt\n",
    "\n",
    "\n",
    "gender_counts_top_25 = top_25_percent_students_math['gender'].value_counts()\n",
    "\n",
    "# Creating a bar plot\n",
    "plt.bar(gender_counts_top_25.index, gender_counts_top_25.values)\n",
    "plt.title('Gender Distribution in Top 25% Math Scores')\n",
    "plt.xlabel('Gender')\n",
    "plt.ylabel('Number of Students')\n",
    "plt.show()\n"
   ]
  },
  {
   "cell_type": "markdown",
   "id": "7d1268a9",
   "metadata": {},
   "source": [
    "# Case Study on Testing of Hypothesis"
   ]
  },
  {
   "cell_type": "markdown",
   "id": "97c7d6bc",
   "metadata": {},
   "source": [
    "2. A company started to invest in digital marketing as a new \n",
    "way of their product promotions. For that they collected \n",
    "data and decided to carry out a study on it.\n",
    "\n",
    "a. The company wishes to clarify whether there is any \n",
    "increase in sales after stepping into digital marketing.\n",
    "\n",
    "b. The company needs to check whether there is any \n",
    "dependency between the features “Region” and \n",
    "“Manager”.\n",
    "\n",
    "Help the company to carry out their study with the help of data \n",
    "provided"
   ]
  },
  {
   "cell_type": "code",
   "execution_count": 21,
   "id": "c2204ef4",
   "metadata": {},
   "outputs": [
    {
     "data": {
      "text/html": [
       "<div>\n",
       "<style scoped>\n",
       "    .dataframe tbody tr th:only-of-type {\n",
       "        vertical-align: middle;\n",
       "    }\n",
       "\n",
       "    .dataframe tbody tr th {\n",
       "        vertical-align: top;\n",
       "    }\n",
       "\n",
       "    .dataframe thead th {\n",
       "        text-align: right;\n",
       "    }\n",
       "</style>\n",
       "<table border=\"1\" class=\"dataframe\">\n",
       "  <thead>\n",
       "    <tr style=\"text-align: right;\">\n",
       "      <th></th>\n",
       "      <th>Month</th>\n",
       "      <th>Region</th>\n",
       "      <th>Manager</th>\n",
       "      <th>Sales_before_digital_add(in $)</th>\n",
       "      <th>Sales_After_digital_add(in $)</th>\n",
       "    </tr>\n",
       "  </thead>\n",
       "  <tbody>\n",
       "    <tr>\n",
       "      <th>0</th>\n",
       "      <td>Month-1</td>\n",
       "      <td>Region - A</td>\n",
       "      <td>Manager - A</td>\n",
       "      <td>132921</td>\n",
       "      <td>270390</td>\n",
       "    </tr>\n",
       "    <tr>\n",
       "      <th>1</th>\n",
       "      <td>Month-2</td>\n",
       "      <td>Region - A</td>\n",
       "      <td>Manager - C</td>\n",
       "      <td>149559</td>\n",
       "      <td>223334</td>\n",
       "    </tr>\n",
       "    <tr>\n",
       "      <th>2</th>\n",
       "      <td>Month-3</td>\n",
       "      <td>Region - B</td>\n",
       "      <td>Manager - A</td>\n",
       "      <td>146278</td>\n",
       "      <td>244243</td>\n",
       "    </tr>\n",
       "    <tr>\n",
       "      <th>3</th>\n",
       "      <td>Month-4</td>\n",
       "      <td>Region - B</td>\n",
       "      <td>Manager - B</td>\n",
       "      <td>152167</td>\n",
       "      <td>231808</td>\n",
       "    </tr>\n",
       "  </tbody>\n",
       "</table>\n",
       "</div>"
      ],
      "text/plain": [
       "     Month      Region      Manager  Sales_before_digital_add(in $)  \\\n",
       "0  Month-1  Region - A  Manager - A                          132921   \n",
       "1  Month-2  Region - A  Manager - C                          149559   \n",
       "2  Month-3  Region - B  Manager - A                          146278   \n",
       "3  Month-4  Region - B  Manager - B                          152167   \n",
       "\n",
       "   Sales_After_digital_add(in $)  \n",
       "0                         270390  \n",
       "1                         223334  \n",
       "2                         244243  \n",
       "3                         231808  "
      ]
     },
     "execution_count": 21,
     "metadata": {},
     "output_type": "execute_result"
    }
   ],
   "source": [
    "import pandas as pd\n",
    "\n",
    "sales = pd.read_csv(r\"C:\\Users\\meenu\\Downloads\\Sales_add.csv\")\n",
    "sales.head(4)"
   ]
  },
  {
   "cell_type": "markdown",
   "id": "05bc0ad5",
   "metadata": {},
   "source": [
    "a) to compare sales before and after digital marketing"
   ]
  },
  {
   "cell_type": "markdown",
   "id": "f831fbb1",
   "metadata": {},
   "source": [
    "Here,\n",
    "\n",
    "   The Null Hypothesis : There is no increase in sales after stepping into digital marketing.\n",
    "   \n",
    "   The Alternate Hypothesis : There is an increase in sales after stepping into digital marketing.\n",
    "   "
   ]
  },
  {
   "cell_type": "markdown",
   "id": "bb121ade",
   "metadata": {},
   "source": [
    "Let's clarify using two sample t-test:"
   ]
  },
  {
   "cell_type": "code",
   "execution_count": 22,
   "id": "ff2229b9",
   "metadata": {},
   "outputs": [
    {
     "data": {
      "text/plain": [
       "Month                             0\n",
       "Region                            0\n",
       "Manager                           0\n",
       "Sales_before_digital_add(in $)    0\n",
       "Sales_After_digital_add(in $)     0\n",
       "dtype: int64"
      ]
     },
     "execution_count": 22,
     "metadata": {},
     "output_type": "execute_result"
    }
   ],
   "source": [
    "sales.isnull().sum()"
   ]
  },
  {
   "cell_type": "code",
   "execution_count": 28,
   "id": "8d15fd41",
   "metadata": {},
   "outputs": [
    {
     "data": {
      "text/plain": [
       "Index(['Month', 'Region', 'Manager', 'Sales_before_digital_add(in $)',\n",
       "       'Sales_After_digital_add(in $)'],\n",
       "      dtype='object')"
      ]
     },
     "execution_count": 28,
     "metadata": {},
     "output_type": "execute_result"
    }
   ],
   "source": [
    "sales.columns"
   ]
  },
  {
   "cell_type": "markdown",
   "id": "ec0c5e3f",
   "metadata": {},
   "source": [
    "# Two sample t-test"
   ]
  },
  {
   "cell_type": "code",
   "execution_count": 23,
   "id": "c3189189",
   "metadata": {},
   "outputs": [],
   "source": [
    "from scipy.stats import ttest_ind    #importing"
   ]
  },
  {
   "cell_type": "code",
   "execution_count": 30,
   "id": "21451b46",
   "metadata": {},
   "outputs": [],
   "source": [
    "t_stat,p_value = ttest_ind(sales['Sales_After_digital_add(in $)'] ,sales['Sales_before_digital_add(in $)'])"
   ]
  },
  {
   "cell_type": "code",
   "execution_count": 32,
   "id": "bbed73e5",
   "metadata": {},
   "outputs": [
    {
     "name": "stdout",
     "output_type": "stream",
     "text": [
      "2.614368006904645e-16\n",
      "Reject Null Hypothesis\n"
     ]
    }
   ],
   "source": [
    "print(p_value)\n",
    "\n",
    "if p_value< 0.05:\n",
    "    print('Reject Null Hypothesis')\n",
    "else:\n",
    "    print('Accept Null Hypothesis')\n",
    "    "
   ]
  },
  {
   "cell_type": "markdown",
   "id": "9cb0e5c8",
   "metadata": {},
   "source": [
    "Result:\n",
    "\n",
    "Rejecting the Null Hypothesis,\n",
    "\n",
    "         Therefore the alternate hypothesis is accepted,\n",
    "         There is an increase in sales after stepping into digital marketing."
   ]
  },
  {
   "cell_type": "markdown",
   "id": "d305518f",
   "metadata": {},
   "source": [
    "b) to know the dependency between region and managers"
   ]
  },
  {
   "cell_type": "markdown",
   "id": "1d628049",
   "metadata": {},
   "source": [
    "Here,\n",
    "    \n",
    "    The Null Hypothesis: there is no dependency between region and managers\n",
    "        \n",
    "    The Alternate Hypothesis: there is a significant dependence between region and managers"
   ]
  },
  {
   "cell_type": "markdown",
   "id": "ed9317d1",
   "metadata": {},
   "source": [
    "Lets Clarify using the Chi-Square test of independence"
   ]
  },
  {
   "cell_type": "markdown",
   "id": "d402ec9d",
   "metadata": {},
   "source": [
    "# Chi-square test of independence"
   ]
  },
  {
   "cell_type": "code",
   "execution_count": 34,
   "id": "166228a1",
   "metadata": {},
   "outputs": [],
   "source": [
    "from scipy.stats import chi2_contingency"
   ]
  },
  {
   "cell_type": "code",
   "execution_count": 42,
   "id": "a84e098c",
   "metadata": {},
   "outputs": [],
   "source": [
    "table = pd.crosstab(sales['Region'], sales['Manager'])\n"
   ]
  },
  {
   "cell_type": "code",
   "execution_count": 44,
   "id": "ce2ceec9",
   "metadata": {},
   "outputs": [],
   "source": [
    "chi2, p_val, dof, expected = chi2_contingency(table)\n"
   ]
  },
  {
   "cell_type": "code",
   "execution_count": 45,
   "id": "442995c5",
   "metadata": {},
   "outputs": [
    {
     "name": "stdout",
     "output_type": "stream",
     "text": [
      "0.5493991051158094\n",
      "Accept Null Hypothesis\n"
     ]
    }
   ],
   "source": [
    "print(p_val)\n",
    "\n",
    "if p_val< 0.05:\n",
    "    print('Reject Null Hypothesis')\n",
    "else:\n",
    "    print('Accept Null Hypothesis')\n",
    " "
   ]
  },
  {
   "cell_type": "markdown",
   "id": "b991b6ed",
   "metadata": {},
   "source": [
    "Result:\n",
    "    \n",
    "    Accept the null hypothesis\n",
    "    \n",
    "    therefore, Region and Manager are independent features"
   ]
  },
  {
   "cell_type": "code",
   "execution_count": null,
   "id": "019e80db",
   "metadata": {},
   "outputs": [],
   "source": []
  }
 ],
 "metadata": {
  "kernelspec": {
   "display_name": "Python 3 (ipykernel)",
   "language": "python",
   "name": "python3"
  },
  "language_info": {
   "codemirror_mode": {
    "name": "ipython",
    "version": 3
   },
   "file_extension": ".py",
   "mimetype": "text/x-python",
   "name": "python",
   "nbconvert_exporter": "python",
   "pygments_lexer": "ipython3",
   "version": "3.11.4"
  }
 },
 "nbformat": 4,
 "nbformat_minor": 5
}
